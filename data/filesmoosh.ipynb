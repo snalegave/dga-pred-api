{
 "cells": [
  {
   "cell_type": "code",
   "execution_count": 1,
   "metadata": {},
   "outputs": [],
   "source": [
    "import pandas as pd\n",
    "import numpy as np"
   ]
  },
  {
   "cell_type": "code",
   "execution_count": 2,
   "metadata": {},
   "outputs": [
    {
     "data": {
      "text/html": [
       "<div>\n",
       "<style scoped>\n",
       "    .dataframe tbody tr th:only-of-type {\n",
       "        vertical-align: middle;\n",
       "    }\n",
       "\n",
       "    .dataframe tbody tr th {\n",
       "        vertical-align: top;\n",
       "    }\n",
       "\n",
       "    .dataframe thead th {\n",
       "        text-align: right;\n",
       "    }\n",
       "</style>\n",
       "<table border=\"1\" class=\"dataframe\">\n",
       "  <thead>\n",
       "    <tr style=\"text-align: right;\">\n",
       "      <th></th>\n",
       "      <th>domain</th>\n",
       "      <th>domain_type</th>\n",
       "    </tr>\n",
       "  </thead>\n",
       "  <tbody>\n",
       "    <tr>\n",
       "      <th>0</th>\n",
       "      <td>000directory.com.ar</td>\n",
       "      <td>benign</td>\n",
       "    </tr>\n",
       "    <tr>\n",
       "      <th>1</th>\n",
       "      <td>000webhost.com</td>\n",
       "      <td>benign</td>\n",
       "    </tr>\n",
       "    <tr>\n",
       "      <th>2</th>\n",
       "      <td>001fans.com</td>\n",
       "      <td>benign</td>\n",
       "    </tr>\n",
       "    <tr>\n",
       "      <th>3</th>\n",
       "      <td>01-telecharger.com</td>\n",
       "      <td>benign</td>\n",
       "    </tr>\n",
       "    <tr>\n",
       "      <th>4</th>\n",
       "      <td>010shangpu.com</td>\n",
       "      <td>benign</td>\n",
       "    </tr>\n",
       "  </tbody>\n",
       "</table>\n",
       "</div>"
      ],
      "text/plain": [
       "                domain domain_type\n",
       "0  000directory.com.ar      benign\n",
       "1       000webhost.com      benign\n",
       "2          001fans.com      benign\n",
       "3   01-telecharger.com      benign\n",
       "4       010shangpu.com      benign"
      ]
     },
     "execution_count": 2,
     "metadata": {},
     "output_type": "execute_result"
    }
   ],
   "source": [
    "data = pd.read_csv('data.csv')\n",
    "data.head()"
   ]
  },
  {
   "cell_type": "code",
   "execution_count": 3,
   "metadata": {},
   "outputs": [
    {
     "data": {
      "text/plain": [
       "(144945, 2)"
      ]
     },
     "execution_count": 3,
     "metadata": {},
     "output_type": "execute_result"
    }
   ],
   "source": [
    "data.shape"
   ]
  },
  {
   "cell_type": "code",
   "execution_count": 4,
   "metadata": {},
   "outputs": [],
   "source": [
    "data1 = pd.read_csv('360_dga_domain.csv')\n",
    "\n",
    "\n",
    "data1 = data1.drop(data1.columns[0], axis=1)\n",
    "\n",
    "data1.head()\n",
    "data1.columns = ['domain', 'domain_type']"
   ]
  },
  {
   "cell_type": "code",
   "execution_count": 5,
   "metadata": {},
   "outputs": [
    {
     "data": {
      "text/plain": [
       "(1314665, 2)"
      ]
     },
     "execution_count": 5,
     "metadata": {},
     "output_type": "execute_result"
    }
   ],
   "source": [
    "data = data.append(data1)\n",
    "data.shape"
   ]
  },
  {
   "cell_type": "code",
   "execution_count": 6,
   "metadata": {},
   "outputs": [
    {
     "data": {
      "text/html": [
       "<div>\n",
       "<style scoped>\n",
       "    .dataframe tbody tr th:only-of-type {\n",
       "        vertical-align: middle;\n",
       "    }\n",
       "\n",
       "    .dataframe tbody tr th {\n",
       "        vertical-align: top;\n",
       "    }\n",
       "\n",
       "    .dataframe thead th {\n",
       "        text-align: right;\n",
       "    }\n",
       "</style>\n",
       "<table border=\"1\" class=\"dataframe\">\n",
       "  <thead>\n",
       "    <tr style=\"text-align: right;\">\n",
       "      <th></th>\n",
       "      <th>domain</th>\n",
       "      <th>domain_type</th>\n",
       "    </tr>\n",
       "  </thead>\n",
       "  <tbody>\n",
       "    <tr>\n",
       "      <th>0</th>\n",
       "      <td>000directory.com.ar</td>\n",
       "      <td>benign</td>\n",
       "    </tr>\n",
       "    <tr>\n",
       "      <th>1</th>\n",
       "      <td>000webhost.com</td>\n",
       "      <td>benign</td>\n",
       "    </tr>\n",
       "    <tr>\n",
       "      <th>2</th>\n",
       "      <td>001fans.com</td>\n",
       "      <td>benign</td>\n",
       "    </tr>\n",
       "    <tr>\n",
       "      <th>3</th>\n",
       "      <td>01-telecharger.com</td>\n",
       "      <td>benign</td>\n",
       "    </tr>\n",
       "    <tr>\n",
       "      <th>4</th>\n",
       "      <td>010shangpu.com</td>\n",
       "      <td>benign</td>\n",
       "    </tr>\n",
       "    <tr>\n",
       "      <th>...</th>\n",
       "      <td>...</td>\n",
       "      <td>...</td>\n",
       "    </tr>\n",
       "    <tr>\n",
       "      <th>846611</th>\n",
       "      <td>toogdpdiekwh.dynserv.com</td>\n",
       "      <td>DGA</td>\n",
       "    </tr>\n",
       "    <tr>\n",
       "      <th>846612</th>\n",
       "      <td>toogdpdiekwh.tv</td>\n",
       "      <td>DGA</td>\n",
       "    </tr>\n",
       "    <tr>\n",
       "      <th>846613</th>\n",
       "      <td>tosxxoa.cc</td>\n",
       "      <td>DGA</td>\n",
       "    </tr>\n",
       "    <tr>\n",
       "      <th>846614</th>\n",
       "      <td>tosxxoa.com</td>\n",
       "      <td>DGA</td>\n",
       "    </tr>\n",
       "    <tr>\n",
       "      <th>846615</th>\n",
       "      <td>tosxxoa.dyndns.org</td>\n",
       "      <td>DGA</td>\n",
       "    </tr>\n",
       "  </tbody>\n",
       "</table>\n",
       "<p>2161281 rows × 2 columns</p>\n",
       "</div>"
      ],
      "text/plain": [
       "                          domain domain_type\n",
       "0            000directory.com.ar      benign\n",
       "1                 000webhost.com      benign\n",
       "2                    001fans.com      benign\n",
       "3             01-telecharger.com      benign\n",
       "4                 010shangpu.com      benign\n",
       "...                          ...         ...\n",
       "846611  toogdpdiekwh.dynserv.com         DGA\n",
       "846612           toogdpdiekwh.tv         DGA\n",
       "846613                tosxxoa.cc         DGA\n",
       "846614               tosxxoa.com         DGA\n",
       "846615        tosxxoa.dyndns.org         DGA\n",
       "\n",
       "[2161281 rows x 2 columns]"
      ]
     },
     "execution_count": 6,
     "metadata": {},
     "output_type": "execute_result"
    }
   ],
   "source": [
    "data2 = pd.read_csv('bambenek_dga_domain.csv')\n",
    "data2.head()\n",
    "data2 = data2.drop(data2.columns[0], axis=1)\n",
    "data2.columns = ['domain', 'domain_type']\n",
    "data = data.append(data2)\n",
    "data.shape\n",
    "\n",
    "df = data\n",
    "df"
   ]
  },
  {
   "cell_type": "code",
   "execution_count": 7,
   "metadata": {},
   "outputs": [
    {
     "data": {
      "text/html": [
       "<div>\n",
       "<style scoped>\n",
       "    .dataframe tbody tr th:only-of-type {\n",
       "        vertical-align: middle;\n",
       "    }\n",
       "\n",
       "    .dataframe tbody tr th {\n",
       "        vertical-align: top;\n",
       "    }\n",
       "\n",
       "    .dataframe thead th {\n",
       "        text-align: right;\n",
       "    }\n",
       "</style>\n",
       "<table border=\"1\" class=\"dataframe\">\n",
       "  <thead>\n",
       "    <tr style=\"text-align: right;\">\n",
       "      <th></th>\n",
       "      <th>domain</th>\n",
       "      <th>domain_type</th>\n",
       "    </tr>\n",
       "  </thead>\n",
       "  <tbody>\n",
       "    <tr>\n",
       "      <th>0</th>\n",
       "      <td>000directory.com.ar</td>\n",
       "      <td>benign</td>\n",
       "    </tr>\n",
       "    <tr>\n",
       "      <th>1</th>\n",
       "      <td>000webhost.com</td>\n",
       "      <td>benign</td>\n",
       "    </tr>\n",
       "    <tr>\n",
       "      <th>2</th>\n",
       "      <td>001fans.com</td>\n",
       "      <td>benign</td>\n",
       "    </tr>\n",
       "    <tr>\n",
       "      <th>3</th>\n",
       "      <td>01-telecharger.com</td>\n",
       "      <td>benign</td>\n",
       "    </tr>\n",
       "    <tr>\n",
       "      <th>4</th>\n",
       "      <td>010shangpu.com</td>\n",
       "      <td>benign</td>\n",
       "    </tr>\n",
       "    <tr>\n",
       "      <th>...</th>\n",
       "      <td>...</td>\n",
       "      <td>...</td>\n",
       "    </tr>\n",
       "    <tr>\n",
       "      <th>2458858</th>\n",
       "      <td>ykhtsikathrinezad.com</td>\n",
       "      <td>DGA</td>\n",
       "    </tr>\n",
       "    <tr>\n",
       "      <th>2458859</th>\n",
       "      <td>htltrasildeafeninguvuc.com</td>\n",
       "      <td>DGA</td>\n",
       "    </tr>\n",
       "    <tr>\n",
       "      <th>2458860</th>\n",
       "      <td>iuaapokyvcrzynkisofpm.org</td>\n",
       "      <td>DGA</td>\n",
       "    </tr>\n",
       "    <tr>\n",
       "      <th>2458861</th>\n",
       "      <td>lhfnellefrictionlessv.com</td>\n",
       "      <td>DGA</td>\n",
       "    </tr>\n",
       "    <tr>\n",
       "      <th>2458862</th>\n",
       "      <td>bfhaancorml.com</td>\n",
       "      <td>DGA</td>\n",
       "    </tr>\n",
       "  </tbody>\n",
       "</table>\n",
       "<p>4620144 rows × 2 columns</p>\n",
       "</div>"
      ],
      "text/plain": [
       "                             domain domain_type\n",
       "0               000directory.com.ar      benign\n",
       "1                    000webhost.com      benign\n",
       "2                       001fans.com      benign\n",
       "3                01-telecharger.com      benign\n",
       "4                    010shangpu.com      benign\n",
       "...                             ...         ...\n",
       "2458858       ykhtsikathrinezad.com         DGA\n",
       "2458859  htltrasildeafeninguvuc.com         DGA\n",
       "2458860   iuaapokyvcrzynkisofpm.org         DGA\n",
       "2458861   lhfnellefrictionlessv.com         DGA\n",
       "2458862             bfhaancorml.com         DGA\n",
       "\n",
       "[4620144 rows x 2 columns]"
      ]
     },
     "execution_count": 7,
     "metadata": {},
     "output_type": "execute_result"
    }
   ],
   "source": [
    "data3 = pd.read_csv('mixed_domain.csv')\n",
    "data3.head()\n",
    "data3 = data3.drop(data3.columns[0], axis=1)\n",
    "data3.columns = ['domain', 'domain_type']\n",
    "\n",
    "data3.head()\n",
    "data3['domain_type'].replace(to_replace =\"Normal\", \n",
    "                 value =\"benign\") \n",
    "df = df.append(data3)\n",
    "df"
   ]
  },
  {
   "cell_type": "code",
   "execution_count": 8,
   "metadata": {},
   "outputs": [
    {
     "data": {
      "text/plain": [
       "(4620144, 2)"
      ]
     },
     "execution_count": 8,
     "metadata": {},
     "output_type": "execute_result"
    }
   ],
   "source": [
    "df.shape\n"
   ]
  },
  {
   "cell_type": "code",
   "execution_count": 9,
   "metadata": {},
   "outputs": [
    {
     "data": {
      "text/plain": [
       "(1000000, 2)"
      ]
     },
     "execution_count": 9,
     "metadata": {},
     "output_type": "execute_result"
    }
   ],
   "source": [
    "data4 = pd.read_csv('top-1m-domain.csv', header=None)\n",
    "# data4['domain_type']\n",
    "data4['a']='benign'\n",
    "data4 = data4.drop(data4.columns[0], axis=1)\n",
    "data4.columns = ['domain', 'domain_type']\n",
    "data4.head()\n",
    "data4.shape\n",
    "df = df.append(data4)\n",
    "data4.shape"
   ]
  },
  {
   "cell_type": "code",
   "execution_count": 10,
   "metadata": {},
   "outputs": [],
   "source": [
    "data5 = pd.read_csv('dga_domains.csv')\n",
    "\n",
    "data5 = data5.drop(data5.columns[1], axis=1)\n",
    "data5 = data5.drop(data5.columns[2], axis=1)\n",
    "data5.columns = ['domain', 'domain_type']\n",
    "data5[\"domain_type\"].replace({\"legit\": \"benign\"}, inplace=True)\n",
    "\n",
    "data5['domain_type'].unique()\n",
    "data\n",
    "# # data4['domain_type']\n",
    "# data4['a']='benign'\n",
    "# data4 = data4.drop(data4.columns[0], axis=1)\n",
    "# data4.columns = ['domain', 'domain_type']\n",
    "# data4.head()\n",
    "# data4.shape\n",
    "# df = df.append(data4)\n",
    "# data4.shape\n",
    "df = df.append(data5)"
   ]
  },
  {
   "cell_type": "code",
   "execution_count": null,
   "metadata": {},
   "outputs": [],
   "source": []
  },
  {
   "cell_type": "code",
   "execution_count": 11,
   "metadata": {},
   "outputs": [
    {
     "data": {
      "text/plain": [
       "(133926, 2)"
      ]
     },
     "execution_count": 11,
     "metadata": {},
     "output_type": "execute_result"
    }
   ],
   "source": [
    "data5.shape\n"
   ]
  },
  {
   "cell_type": "code",
   "execution_count": null,
   "metadata": {},
   "outputs": [],
   "source": []
  },
  {
   "cell_type": "code",
   "execution_count": 12,
   "metadata": {},
   "outputs": [
    {
     "data": {
      "text/plain": [
       "(5754070, 2)"
      ]
     },
     "execution_count": 12,
     "metadata": {},
     "output_type": "execute_result"
    }
   ],
   "source": [
    "\n",
    "df[\"domain_type\"].replace({\"DGA\": \"dga\", \"Normal\": \"benign\"}, inplace=True)\n",
    "df.shape"
   ]
  },
  {
   "cell_type": "code",
   "execution_count": 13,
   "metadata": {},
   "outputs": [
    {
     "name": "stdout",
     "output_type": "stream",
     "text": [
      "                               domain domain_type\n",
      "0                 000directory.com.ar      benign\n",
      "1                      000webhost.com      benign\n",
      "2                         001fans.com      benign\n",
      "3                  01-telecharger.com      benign\n",
      "4                      010shangpu.com      benign\n",
      "...                               ...         ...\n",
      "133921                   zzsearch.net      benign\n",
      "133922                    zzstream.li      benign\n",
      "133923  zzu1icncjioj5i9gjr18vjr6c.org         dga\n",
      "133924      zzxsmfnvijtdxnvxytowkx.ru         dga\n",
      "133925                    zzztube.com      benign\n",
      "\n",
      "[5754070 rows x 2 columns]\n"
     ]
    },
    {
     "data": {
      "text/plain": [
       "domain_type\n",
       "benign    1039333\n",
       "dga       1499684\n",
       "Name: domain, dtype: int64"
      ]
     },
     "execution_count": 13,
     "metadata": {},
     "output_type": "execute_result"
    }
   ],
   "source": [
    "\n",
    "print(df)\n",
    "\n",
    "\n",
    "test = df.groupby('domain_type')['domain'].nunique()\n",
    "test"
   ]
  },
  {
   "cell_type": "code",
   "execution_count": 14,
   "metadata": {},
   "outputs": [
    {
     "data": {
      "text/plain": [
       "(2539017, 2)"
      ]
     },
     "execution_count": 14,
     "metadata": {},
     "output_type": "execute_result"
    }
   ],
   "source": [
    "df.drop_duplicates(subset =\"domain\", \n",
    "                     keep ='first', inplace = True) \n",
    "df.shape"
   ]
  },
  {
   "cell_type": "code",
   "execution_count": 15,
   "metadata": {},
   "outputs": [
    {
     "data": {
      "text/plain": [
       "domain\n",
       "0-1.ir                          1\n",
       "0-1.ru                          1\n",
       "0-100fitness.com                1\n",
       "0-100k.com                      1\n",
       "0-12.ru                         1\n",
       "                               ..\n",
       "zzzzanerraticallyqozaw.com      1\n",
       "zzzzfordlinnetavox.com          1\n",
       "zzzzt5oeira.net                 1\n",
       "zzzzz.kr                        1\n",
       "zzzzzzzxxxddxdfvc.tumblr.com    1\n",
       "Name: domain_type, Length: 2539017, dtype: int64"
      ]
     },
     "execution_count": 15,
     "metadata": {},
     "output_type": "execute_result"
    }
   ],
   "source": [
    "# test2 = df.groupby('domain')['domain_type'].nunique()\n",
    "# test2"
   ]
  },
  {
   "cell_type": "code",
   "execution_count": 16,
   "metadata": {},
   "outputs": [],
   "source": [
    "df.to_csv('merged.csv', index = False)"
   ]
  },
  {
   "cell_type": "code",
   "execution_count": 18,
   "metadata": {},
   "outputs": [
    {
     "data": {
      "text/plain": [
       "(2539017, 2)"
      ]
     },
     "execution_count": 18,
     "metadata": {},
     "output_type": "execute_result"
    }
   ],
   "source": [
    "merged= pd.read_csv('merged.csv')\n",
    "merged.shape\n"
   ]
  }
 ],
 "metadata": {
  "kernelspec": {
   "display_name": "Python 3",
   "language": "python",
   "name": "python3"
  },
  "language_info": {
   "codemirror_mode": {
    "name": "ipython",
    "version": 3
   },
   "file_extension": ".py",
   "mimetype": "text/x-python",
   "name": "python",
   "nbconvert_exporter": "python",
   "pygments_lexer": "ipython3",
   "version": "3.7.7"
  }
 },
 "nbformat": 4,
 "nbformat_minor": 4
}
